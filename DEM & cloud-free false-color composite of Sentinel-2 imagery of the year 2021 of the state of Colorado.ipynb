{
  "cells": [
    {
      "cell_type": "markdown",
      "metadata": {
        "id": "kSRTfLqY0RnP"
      },
      "source": [
        "# Lab 3\n",
        "\n",
        "\n",
        "[![Open In Colab](https://colab.research.google.com/assets/colab-badge.svg)](https://colab.research.google.com/github/giswqs/geog-414/blob/master/book/labs/lab_03.ipynb)\n",
        "\n",
        "## Submission requirements\n",
        "\n",
        "1. Upload a screenshot of your map for each question.\n",
        "2. Provide a link to your notebook on Colab. See instructions [here](https://geog-414.gishub.org/book/labs/instructions.html).\n"
      ],
      "id": "kSRTfLqY0RnP"
    },
    {
      "cell_type": "markdown",
      "metadata": {
        "tags": [],
        "id": "3WBPhOco0RnS"
      },
      "source": [
        "## Question 1\n",
        "\n",
        "Find a DEM dataset in the [Earth Engine Data Catalog](https://developers.google.com/earth-engine/datasets/), clip the DEM to your home state, and display the DEM with a proper color palette on the map. For example, the sample map below shows the DEM of the state of Colorado."
      ],
      "id": "3WBPhOco0RnS"
    },
    {
      "cell_type": "code",
      "execution_count": null,
      "metadata": {
        "id": "1DlAJot_0RnS"
      },
      "outputs": [],
      "source": [
        "%pip install pygis"
      ],
      "id": "1DlAJot_0RnS"
    },
    {
      "cell_type": "code",
      "source": [
        "import ee\n",
        "import geemap"
      ],
      "metadata": {
        "id": "OlTk2ycG0Vkx"
      },
      "id": "OlTk2ycG0Vkx",
      "execution_count": null,
      "outputs": []
    },
    {
      "cell_type": "code",
      "source": [
        "geemap.ee_initialize()"
      ],
      "metadata": {
        "id": "Sg-4uKTH0Vxw"
      },
      "id": "Sg-4uKTH0Vxw",
      "execution_count": null,
      "outputs": []
    },
    {
      "cell_type": "code",
      "source": [
        "# Create a Map object\n",
        "Map = geemap.Map()\n",
        "\n",
        "# Define the region of interest (ROI) for Nepal\n",
        "nepal = ee.FeatureCollection('USDOS/LSIB_SIMPLE/2017') \\\n",
        "    .filter(ee.Filter.eq('country_na', 'Nepal'))\n",
        "\n",
        "# Load a Digital Elevation Model (DEM) dataset\n",
        "dem = ee.Image('USGS/SRTMGL1_003')\n",
        "\n",
        "# Clip the DEM to Nepal\n",
        "dem_nepal = dem.clip(nepal)\n",
        "\n",
        "# Add the clipped DEM to the map with a proper color palette\n",
        "Map.addLayer(dem_nepal, {\n",
        "    'min': 0,\n",
        "    'max': 8000,\n",
        "    'palette': ['006633', 'E5FFCC', '662A00', 'D8D8D8', 'F5F5F5']\n",
        "}, 'DEM')\n",
        "\n",
        "# Center the map around Nepal\n",
        "Map.centerObject(nepal, 7)\n",
        "\n",
        "#Add text to the map\n",
        "text = \"Created by Suyog Pradhan\"\n",
        "Map.add_text(text, fontsize=20, position='bottomright')\n",
        "\n",
        "# Display the map\n",
        "Map"
      ],
      "metadata": {
        "id": "8JBVWZSk0dzx"
      },
      "id": "8JBVWZSk0dzx",
      "execution_count": null,
      "outputs": []
    },
    {
      "cell_type": "markdown",
      "metadata": {
        "id": "YDHw6gtg0RnT"
      },
      "source": [
        "![](https://i.imgur.com/OLeSt7n.png)"
      ],
      "id": "YDHw6gtg0RnT"
    },
    {
      "cell_type": "markdown",
      "metadata": {
        "id": "9UQJt1Wn0RnT"
      },
      "source": [
        "## Question 2\n",
        "\n",
        "Use [Sentinel-2](https://developers.google.com/earth-engine/datasets/catalog/sentinel-2) or [Landsat-9 data](https://developers.google.com/earth-engine/datasets/catalog/landsat-9), create a cloud-free imagery of the year 2021 for your home state. Display the imagery on the map with a proper band combination. For example, the sample map below shows a cloud-free false-color composite of Sentinel-2 imagery of the year 2021 for the state of Colorado."
      ],
      "id": "9UQJt1Wn0RnT"
    },
    {
      "cell_type": "code",
      "execution_count": null,
      "metadata": {
        "id": "nCsPhFQ60RnT"
      },
      "outputs": [],
      "source": [
        "# Create a Map object\n",
        "Map = geemap.Map()\n",
        "\n",
        "# Define the region of interest (ROI) for Nepal\n",
        "nepal = ee.FeatureCollection('USDOS/LSIB_SIMPLE/2017') \\\n",
        "    .filter(ee.Filter.eq('country_na', 'Nepal'))\n",
        "\n",
        "# Load a Digital Elevation Model (DEM) dataset\n",
        "dem = ee.Image('USGS/SRTMGL1_003')\n",
        "\n",
        "# Clip the DEM to Nepal\n",
        "dem_nepal = dem.clip(nepal)\n",
        "\n",
        "# Add the clipped DEM to the map with a proper color palette\n",
        "Map.addLayer(dem_nepal, {\n",
        "    'min': 0,\n",
        "    'max': 8000,\n",
        "    'palette': ['006633', 'E5FFCC', '662A00', 'D8D8D8', 'F5F5F5']\n",
        "}, 'DEM')\n",
        "\n",
        "# Center the map around Nepal\n",
        "Map.centerObject(nepal, 7)\n",
        "\n",
        "#Add text to the map\n",
        "text = \"Created by Suyog Pradhan\"\n",
        "Map.add_text(text, fontsize=20, position='bottomright')\n",
        "\n",
        "# Display the map\n",
        "Map"
      ],
      "id": "nCsPhFQ60RnT"
    },
    {
      "cell_type": "markdown",
      "metadata": {
        "id": "qSnWNRx40RnU"
      },
      "source": [
        "![](https://i.imgur.com/wD0VamV.png)"
      ],
      "id": "qSnWNRx40RnU"
    }
  ],
  "metadata": {
    "kernelspec": {
      "display_name": "Python 3",
      "language": "python",
      "name": "python3"
    },
    "language_info": {
      "codemirror_mode": {
        "name": "ipython",
        "version": 3
      },
      "file_extension": ".py",
      "mimetype": "text/x-python",
      "name": "python",
      "nbconvert_exporter": "python",
      "pygments_lexer": "ipython3",
      "version": "3.11.5"
    },
    "colab": {
      "provenance": []
    }
  },
  "nbformat": 4,
  "nbformat_minor": 5
}